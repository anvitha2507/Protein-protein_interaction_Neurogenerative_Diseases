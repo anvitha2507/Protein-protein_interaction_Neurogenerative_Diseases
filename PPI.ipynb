{
  "nbformat": 4,
  "nbformat_minor": 0,
  "metadata": {
    "colab": {
      "provenance": []
    },
    "kernelspec": {
      "name": "python3",
      "display_name": "Python 3"
    },
    "language_info": {
      "name": "python"
    }
  },
  "cells": [
    {
      "cell_type": "code",
      "source": [
        "import pandas as pd\n",
        "from sklearn.model_selection import train_test_split\n",
        "from sklearn.ensemble import RandomForestClassifier\n",
        "import joblib\n",
        "\n",
        "data = pd.read_csv('pip.csv')\n",
        "\n",
        "X = data[['Protein1', 'Protein2', 'Score']]\n",
        "y = data['Disease']\n",
        "\n",
        "X = pd.get_dummies(X, columns=['Protein1', 'Protein2'])\n",
        "y = y.astype('category').cat.codes\n",
        "\n",
        "X_train, X_test, y_train, y_test = train_test_split(X, y, test_size=0.2, random_state=42)\n",
        "\n",
        "model = RandomForestClassifier(n_estimators=100, random_state=42)\n",
        "model.fit(X_train, y_train)\n",
        "\n",
        "accuracy = model.score(X_test, y_test)\n",
        "print(f'Model Accuracy: {accuracy * 100:.2f}%')"
      ],
      "metadata": {
        "colab": {
          "base_uri": "https://localhost:8080/"
        },
        "id": "dFgaFxq2f8rP",
        "outputId": "76b49c56-e12c-4140-95d7-3753c20a4fb7"
      },
      "execution_count": null,
      "outputs": [
        {
          "output_type": "stream",
          "name": "stdout",
          "text": [
            "Model Accuracy: 71.43%\n"
          ]
        }
      ]
    },
    {
      "cell_type": "code",
      "source": [
        "joblib.dump(model, 'pip.pkl')\n",
        "\n",
        "def predict_disease(user_protein1, user_protein2, user_score):\n",
        "    user_data = pd.DataFrame({\n",
        "        'Protein1': [user_protein1],\n",
        "        'Protein2': [user_protein2],\n",
        "        'Score': [user_score]\n",
        "    })\n",
        "\n",
        "    user_data = pd.get_dummies(user_data, columns=['Protein1', 'Protein2'])\n",
        "    user_data = user_data.reindex(columns=X.columns, fill_value=0)\n",
        "\n",
        "    prediction = model.predict(user_data)\n",
        "\n",
        "    disease_mapping_inverse = {v: k for k, v in disease_mapping.items()}\n",
        "    disease = disease_mapping_inverse[prediction[0]]\n",
        "    return disease\n",
        "\n",
        "protein1_input = input(\"Enter Protein 1: \")\n",
        "protein2_input = input(\"Enter Protein 2: \")\n",
        "score_input = float(input(\"Enter Score: \"))\n",
        "\n",
        "predicted_disease = predict_disease(protein1_input, protein2_input, score_input)\n",
        "print(f'Predicted Disease: {predicted_disease}')"
      ],
      "metadata": {
        "colab": {
          "base_uri": "https://localhost:8080/"
        },
        "id": "CzrmWuAQlciM",
        "outputId": "9c5e7495-c1f3-4955-d050-036c341a3c08"
      },
      "execution_count": null,
      "outputs": [
        {
          "output_type": "stream",
          "name": "stdout",
          "text": [
            "Enter Protein 1: Alpha-synuclein protein\n",
            "Enter Protein 2: Alpha-synuclein protein\n",
            "Enter Score: 0.8\n",
            "Predicted Disease: Creutzfeldt-Jakob disease\n"
          ]
        }
      ]
    }
  ]
}